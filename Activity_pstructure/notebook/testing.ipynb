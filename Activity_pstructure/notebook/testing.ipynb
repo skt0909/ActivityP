{
 "cells": [
  {
   "cell_type": "code",
   "execution_count": 1,
   "id": "54ea4de5",
   "metadata": {},
   "outputs": [],
   "source": [
    "import sys\n",
    "sys.path.append('d:\\\\ActivityP')"
   ]
  },
  {
   "cell_type": "code",
   "execution_count": 8,
   "id": "e024578b",
   "metadata": {},
   "outputs": [],
   "source": [
    "import Activity_pstructure"
   ]
  },
  {
   "cell_type": "code",
   "execution_count": 9,
   "id": "62eb4e26",
   "metadata": {},
   "outputs": [],
   "source": [
    "import sys\n",
    "sys.path.append(r\"d:\\\\ActivityP\")\n",
    "import Activity_pstructure"
   ]
  },
  {
   "cell_type": "code",
   "execution_count": 3,
   "id": "d80540b2",
   "metadata": {},
   "outputs": [],
   "source": [
    "import pandas as pd\n",
    "import sys\n",
    "from pymongo.mongo_client  import MongoClient\n",
    "from logging import getLogger\n",
    "from Activity_pstructure.logging.logger import logger\n",
    "from Activity_pstructure.exception.exception import ActivityException\n",
    "from Activity_pstructure.entity.config_entity import MongoDBConfig\n",
    "\n",
    "logger = getLogger(\"activity_logger\")\n",
    "\n",
    "class DataIngestion:\n",
    "    def __init__(self, config: MongoDBConfig):\n",
    "        self.config = config\n",
    "\n",
    "    def fetch_data_from_mongodb(self) -> pd.DataFrame:\n",
    "        try:\n",
    "            logger.info(\"Starting data retrieval from MongoDB Atlas...\")\n",
    "\n",
    "            client = MongoClient(self.config.mongo_url)\n",
    "            db = client[self.config.database_name]\n",
    "            collection = db[self.config.collection_name]\n",
    "\n",
    "            cursor = collection.find()\n",
    "            data = list(cursor)\n",
    "\n",
    "            for doc in data:  # Remove _id field if present\n",
    "                doc.pop('_id', None)\n",
    "\n",
    "            df = pd.DataFrame(data)\n",
    "            logger.info(f\"Retrieved {len(df)} records from MongoDB.\")\n",
    "            return df\n",
    "\n",
    "        except Exception as e:\n",
    "            raise ActivityException(e, sys)\n"
   ]
  },
  {
   "cell_type": "code",
   "execution_count": 4,
   "id": "874d0584",
   "metadata": {},
   "outputs": [
    {
     "name": "stdout",
     "output_type": "stream",
     "text": [
      "           Id ActivityDate  TotalSteps  TotalDistance  TrackerDistance  \\\n",
      "0  1503960366    4/20/2016       10544           6.68             6.68   \n",
      "1  1503960366    4/27/2016       18134          12.21            12.21   \n",
      "2  1503960366     5/7/2016       11992           7.71             7.71   \n",
      "3  1624580081    4/17/2016        6175           4.06             4.06   \n",
      "4  1624580081     5/5/2016        2470           1.61             1.61   \n",
      "\n",
      "   LoggedActivitiesDistance  VeryActiveDistance  ModeratelyActiveDistance  \\\n",
      "0                       0.0                1.96                      0.48   \n",
      "1                       0.0                6.40                      0.41   \n",
      "2                       0.0                2.46                      2.12   \n",
      "3                       0.0                1.03                      1.52   \n",
      "4                       0.0                0.00                      0.00   \n",
      "\n",
      "   LightActiveDistance  SedentaryActiveDistance  VeryActiveMinutes  \\\n",
      "0                 4.24                     0.00                 28   \n",
      "1                 5.41                     0.00                 78   \n",
      "2                 3.13                     0.00                 37   \n",
      "3                 1.49                     0.01                 15   \n",
      "4                 1.58                     0.02                  0   \n",
      "\n",
      "   FairlyActiveMinutes  LightlyActiveMinutes  SedentaryMinutes  Calories  \n",
      "0                   12                   205               818      1786  \n",
      "1                   11                   243              1108      2159  \n",
      "2                   46                   175               833      1821  \n",
      "3                   22                   127              1276      1554  \n",
      "4                    0                   117              1323      1370  \n"
     ]
    }
   ],
   "source": [
    "import pandas as pd\n",
    "import sys\n",
    "import os\n",
    "from pymongo.mongo_client  import MongoClient\n",
    "from logging import getLogger\n",
    "from Activity_pstructure.exception.exception import ActivityException\n",
    "from Activity_pstructure.entity.config_entity import MongoDBConfig\n",
    "from Activity_pstructure.constant.database import DATABASE_NAME, COLLECTION_NAME\n",
    "from Activity_pstructure.components.ingestion import DataIngestion\n",
    "MONGO_DB_URL = os.getenv(\"MONGO_DB_URL\")\n",
    "\n",
    "config = MongoDBConfig(\n",
    "    mongo_url=MONGO_DB_URL,\n",
    "    database_name=DATABASE_NAME,\n",
    "    collection_name=COLLECTION_NAME\n",
    ")\n",
    "\n",
    "ingestion = DataIngestion(config)\n",
    "df = ingestion.fetch_data_from_mongodb()\n",
    "print(df.head())"
   ]
  },
  {
   "cell_type": "code",
   "execution_count": 5,
   "id": "97808fa2",
   "metadata": {},
   "outputs": [],
   "source": [
    "def save_dataframe_to_artifacts(df: pd.DataFrame, output_dir: str, output_filename: str):\n",
    "        try:\n",
    "            os.makedirs(output_dir, exist_ok=True)\n",
    "            file_path = os.path.join(output_dir, output_filename)\n",
    "\n",
    "            df.to_csv(file_path, index=False)\n",
    "            logger.info(f\"DataFrame saved to {file_path}\")\n",
    "\n",
    "        except Exception as e:\n",
    "            logger.error(f\"Failed to save DataFrame: {e}\")\n",
    "        raise ActivityException(e, sys)"
   ]
  },
  {
   "cell_type": "code",
   "execution_count": null,
   "id": "8a6db3b8",
   "metadata": {},
   "outputs": [],
   "source": []
  }
 ],
 "metadata": {
  "kernelspec": {
   "display_name": "Python 3",
   "language": "python",
   "name": "python3"
  },
  "language_info": {
   "codemirror_mode": {
    "name": "ipython",
    "version": 3
   },
   "file_extension": ".py",
   "mimetype": "text/x-python",
   "name": "python",
   "nbconvert_exporter": "python",
   "pygments_lexer": "ipython3",
   "version": "3.10.0"
  }
 },
 "nbformat": 4,
 "nbformat_minor": 5
}
